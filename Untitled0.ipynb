{
  "nbformat": 4,
  "nbformat_minor": 0,
  "metadata": {
    "colab": {
      "name": "Untitled0.ipynb",
      "provenance": [],
      "collapsed_sections": [],
      "authorship_tag": "ABX9TyM12+tsExLtO7QYYSfELKOh",
      "include_colab_link": true
    },
    "kernelspec": {
      "name": "python3",
      "display_name": "Python 3"
    }
  },
  "cells": [
    {
      "cell_type": "markdown",
      "metadata": {
        "id": "view-in-github",
        "colab_type": "text"
      },
      "source": [
        "<a href=\"https://colab.research.google.com/github/Jeong-2/jeong-2.github.io/blob/master/Untitled0.ipynb\" target=\"_parent\"><img src=\"https://colab.research.google.com/assets/colab-badge.svg\" alt=\"Open In Colab\"/></a>"
      ]
    },
    {
      "cell_type": "code",
      "metadata": {
        "colab": {
          "base_uri": "https://localhost:8080/"
        },
        "id": "dKnPAz0O3rbT",
        "outputId": "acde9bb4-cf70-4199-c558-3dc4e7ef0ed4"
      },
      "source": [
        "pip install SpeechRecognition"
      ],
      "execution_count": 2,
      "outputs": [
        {
          "output_type": "stream",
          "text": [
            "Collecting SpeechRecognition\n",
            "\u001b[?25l  Downloading https://files.pythonhosted.org/packages/26/e1/7f5678cd94ec1234269d23756dbdaa4c8cfaed973412f88ae8adf7893a50/SpeechRecognition-3.8.1-py2.py3-none-any.whl (32.8MB)\n",
            "\u001b[K     |████████████████████████████████| 32.8MB 124kB/s \n",
            "\u001b[?25hInstalling collected packages: SpeechRecognition\n",
            "Successfully installed SpeechRecognition-3.8.1\n"
          ],
          "name": "stdout"
        }
      ]
    },
    {
      "cell_type": "markdown",
      "metadata": {
        "id": "37ZYCNfpGWuH"
      },
      "source": [
        "# 확인\r\n"
      ]
    },
    {
      "cell_type": "code",
      "metadata": {
        "id": "XzDD2jP5Ddko"
      },
      "source": [
        "import pandas as pd\r\n",
        "import IPython\r\n",
        "import librosa\r\n",
        "import numpy as np\r\n",
        "import wave\r\n",
        "import matplotlib.pyplot as plt\r\n",
        "import speech_recognition as srn\r\n",
        "import numpy as np\r\n",
        "import pandas as pd\r\n",
        "\r\n",
        "# 시각화를 위한 모듈\r\n",
        "import matplotlib.pyplot as plt\r\n",
        "%matplotlib inline\r\n",
        "import seaborn as sns\r\n",
        "plt.style.use('seaborn-whitegrid')\r\n",
        "# import missingno\r\n",
        "\r\n",
        "# 너무 많이 발생하는 경고들을 제거\r\n",
        "import sys\r\n",
        "import warnings\r\n",
        "warnings.filterwarnings('ignore')"
      ],
      "execution_count": 3,
      "outputs": []
    },
    {
      "cell_type": "code",
      "metadata": {
        "id": "7IvAXshiDerT"
      },
      "source": [
        "# 전사 텍스트\r\n",
        "o = open(\"2020_소아남녀_학습DB_PCM2TEXT.list\", 'r',encoding='cp949') \r\n",
        "k = o.readlines()\r\n",
        "child_text = []\r\n",
        "for i in k:\r\n",
        "    index = i.index('PCM')\r\n",
        "    string = i[index+4 : -1]\r\n",
        "    child_text.append(string)"
      ],
      "execution_count": 10,
      "outputs": []
    },
    {
      "cell_type": "code",
      "metadata": {
        "id": "kV9aPQZuDgDv"
      },
      "source": [
        "# citycode\r\n",
        "o = open(\"2020_소아남녀_학습DB_PCM2TEXT.list\", 'r',encoding='cp949') \r\n",
        "k = o.readlines()\r\n",
        "child_city = []\r\n",
        "for i in k:\r\n",
        "    index = i.index('00')\r\n",
        "    string = i[98 : 101 ]\r\n",
        "    child_city.append(string)"
      ],
      "execution_count": 12,
      "outputs": []
    },
    {
      "cell_type": "code",
      "metadata": {
        "id": "R1ZJaSAoFoKL"
      },
      "source": [
        "# A_001 - setnum2\r\n",
        "o = open(\"2020_소아남녀_학습DB_PCM2TEXT.list\", 'r',encoding='cp949') \r\n",
        "k = o.readlines()\r\n",
        "child_setnum2 = []\r\n",
        "for i in k:\r\n",
        "    index = i.index('00')\r\n",
        "    string = i[81 : 86]\r\n",
        "    child_setnum2.append(string)"
      ],
      "execution_count": 13,
      "outputs": []
    },
    {
      "cell_type": "code",
      "metadata": {
        "id": "7jy2h0TgFxQA"
      },
      "source": [
        "# 소아남녀_001 - setnum\r\n",
        "o = open(\"2020_소아남녀_학습DB_PCM2TEXT.list\", 'r',encoding='cp949') \r\n",
        "k = o.readlines()\r\n",
        "child_setnum = []\r\n",
        "for i in k:\r\n",
        "    index = i.index('00')\r\n",
        "    string = i[72: 80]\r\n",
        "    child_setnum.append(string)"
      ],
      "execution_count": 14,
      "outputs": []
    },
    {
      "cell_type": "code",
      "metadata": {
        "id": "H5d8sEfpF4m9"
      },
      "source": [
        "# gender\r\n",
        "o = open(\"2020_소아남녀_학습DB_PCM2TEXT.list\", 'r',encoding='cp949') \r\n",
        "k = o.readlines()\r\n",
        "child_gender = []\r\n",
        "for i in k:\r\n",
        "    index = i.index('00')\r\n",
        "    string = i[87 : 88]\r\n",
        "    child_gender.append(string)"
      ],
      "execution_count": 15,
      "outputs": []
    },
    {
      "cell_type": "code",
      "metadata": {
        "id": "ZzbiqJIGF9Kt"
      },
      "source": [
        "# age\r\n",
        "o = open(\"2020_소아남녀_학습DB_PCM2TEXT.list\", 'r',encoding='cp949') \r\n",
        "k = o.readlines()\r\n",
        "child_age = []\r\n",
        "for i in k:\r\n",
        "    index = i.index('00')\r\n",
        "    string = i[95 : 97]\r\n",
        "    child_age.append(string)"
      ],
      "execution_count": 16,
      "outputs": []
    },
    {
      "cell_type": "code",
      "metadata": {
        "id": "-XKA0rd0GCXn"
      },
      "source": [
        "# nameid\r\n",
        "o = open(\"2020_소아남녀_학습DB_PCM2TEXT.list\", 'r',encoding='cp949') \r\n",
        "k = o.readlines()\r\n",
        "child_Nameid = []\r\n",
        "for i in k:\r\n",
        "    index = i.index('00')\r\n",
        "    string = i[89 : 94]\r\n",
        "    child_Nameid.append(string)"
      ],
      "execution_count": 17,
      "outputs": []
    },
    {
      "cell_type": "code",
      "metadata": {
        "id": "W0HAaJCxGFNw"
      },
      "source": [
        "# 스크립트 번호\r\n",
        "o = open(\"2020_소아남녀_학습DB_PCM2TEXT.list\", 'r',encoding='cp949') \r\n",
        "k = o.readlines()\r\n",
        "child_script = []\r\n",
        "for i in k:\r\n",
        "    index = i.index('PCM')\r\n",
        "    string = i[106 : index-1]\r\n",
        "    child_script.append(string)"
      ],
      "execution_count": 18,
      "outputs": []
    },
    {
      "cell_type": "code",
      "metadata": {
        "colab": {
          "base_uri": "https://localhost:8080/",
          "height": 573
        },
        "id": "-VZoZMMGGIET",
        "outputId": "e249ed5b-dc73-4892-b76d-664661e2f28b"
      },
      "source": [
        "# 소아남녀 information dictionary\r\n",
        "child_dict = {}\r\n",
        "child_dict['Nameid'] = child_Nameid # 추출한 리스트\r\n",
        "child_dict['age'] = child_age\r\n",
        "child_dict['city'] = child_city\r\n",
        "child_dict['gender'] = child_gender\r\n",
        "child_dict['setnum'] = child_setnum\r\n",
        "child_dict['setnum2'] = child_setnum2\r\n",
        "child_dict['scriptnum'] = child_script\r\n",
        "child_dict['text'] = child_text\r\n",
        "\r\n",
        "# 성인남여 information DataFrame\r\n",
        "df_child = pd.DataFrame(child_dict)\r\n",
        "df_child"
      ],
      "execution_count": 19,
      "outputs": [
        {
          "output_type": "execute_result",
          "data": {
            "text/html": [
              "<div>\n",
              "<style scoped>\n",
              "    .dataframe tbody tr th:only-of-type {\n",
              "        vertical-align: middle;\n",
              "    }\n",
              "\n",
              "    .dataframe tbody tr th {\n",
              "        vertical-align: top;\n",
              "    }\n",
              "\n",
              "    .dataframe thead th {\n",
              "        text-align: right;\n",
              "    }\n",
              "</style>\n",
              "<table border=\"1\" class=\"dataframe\">\n",
              "  <thead>\n",
              "    <tr style=\"text-align: right;\">\n",
              "      <th></th>\n",
              "      <th>Nameid</th>\n",
              "      <th>age</th>\n",
              "      <th>city</th>\n",
              "      <th>gender</th>\n",
              "      <th>setnum</th>\n",
              "      <th>setnum2</th>\n",
              "      <th>scriptnum</th>\n",
              "      <th>text</th>\n",
              "    </tr>\n",
              "  </thead>\n",
              "  <tbody>\n",
              "    <tr>\n",
              "      <th>0</th>\n",
              "      <td>KJH00</td>\n",
              "      <td>10</td>\n",
              "      <td>수도권</td>\n",
              "      <td>F</td>\n",
              "      <td>소아남녀_001</td>\n",
              "      <td>A_001</td>\n",
              "      <td>00001</td>\n",
              "      <td>우리 이모는 미국 살아</td>\n",
              "    </tr>\n",
              "    <tr>\n",
              "      <th>1</th>\n",
              "      <td>KJH00</td>\n",
              "      <td>10</td>\n",
              "      <td>수도권</td>\n",
              "      <td>F</td>\n",
              "      <td>소아남녀_001</td>\n",
              "      <td>A_001</td>\n",
              "      <td>00002</td>\n",
              "      <td>우리 삼촌은 베트남에 있어</td>\n",
              "    </tr>\n",
              "    <tr>\n",
              "      <th>2</th>\n",
              "      <td>KJH00</td>\n",
              "      <td>10</td>\n",
              "      <td>수도권</td>\n",
              "      <td>F</td>\n",
              "      <td>소아남녀_001</td>\n",
              "      <td>A_001</td>\n",
              "      <td>00003</td>\n",
              "      <td>내 동생은 맨날 귀찮게 졸졸 쫓아 다녀</td>\n",
              "    </tr>\n",
              "    <tr>\n",
              "      <th>3</th>\n",
              "      <td>KJH00</td>\n",
              "      <td>10</td>\n",
              "      <td>수도권</td>\n",
              "      <td>F</td>\n",
              "      <td>소아남녀_001</td>\n",
              "      <td>A_001</td>\n",
              "      <td>00004</td>\n",
              "      <td>맨날 내 말 따라하고 공부하는데 방해해</td>\n",
              "    </tr>\n",
              "    <tr>\n",
              "      <th>4</th>\n",
              "      <td>KJH00</td>\n",
              "      <td>10</td>\n",
              "      <td>수도권</td>\n",
              "      <td>F</td>\n",
              "      <td>소아남녀_001</td>\n",
              "      <td>A_001</td>\n",
              "      <td>00005</td>\n",
              "      <td>시끄럽게 떠들고 얄미워</td>\n",
              "    </tr>\n",
              "    <tr>\n",
              "      <th>...</th>\n",
              "      <td>...</td>\n",
              "      <td>...</td>\n",
              "      <td>...</td>\n",
              "      <td>...</td>\n",
              "      <td>...</td>\n",
              "      <td>...</td>\n",
              "      <td>...</td>\n",
              "      <td>...</td>\n",
              "    </tr>\n",
              "    <tr>\n",
              "      <th>110529</th>\n",
              "      <td>HJW00</td>\n",
              "      <td>10</td>\n",
              "      <td>수도권</td>\n",
              "      <td>F</td>\n",
              "      <td>소아남녀_010</td>\n",
              "      <td>E_200</td>\n",
              "      <td>19996</td>\n",
              "      <td>나는 당연히 두산 선택해서 했지</td>\n",
              "    </tr>\n",
              "    <tr>\n",
              "      <th>110530</th>\n",
              "      <td>HJW00</td>\n",
              "      <td>10</td>\n",
              "      <td>수도권</td>\n",
              "      <td>F</td>\n",
              "      <td>소아남녀_010</td>\n",
              "      <td>E_200</td>\n",
              "      <td>19997</td>\n",
              "      <td>내 기록도 남길 수 있어</td>\n",
              "    </tr>\n",
              "    <tr>\n",
              "      <th>110531</th>\n",
              "      <td>HJW00</td>\n",
              "      <td>10</td>\n",
              "      <td>수도권</td>\n",
              "      <td>F</td>\n",
              "      <td>소아남녀_010</td>\n",
              "      <td>E_200</td>\n",
              "      <td>19998</td>\n",
              "      <td>야구는 미국이 잘하잖아</td>\n",
              "    </tr>\n",
              "    <tr>\n",
              "      <th>110532</th>\n",
              "      <td>HJW00</td>\n",
              "      <td>10</td>\n",
              "      <td>수도권</td>\n",
              "      <td>F</td>\n",
              "      <td>소아남녀_010</td>\n",
              "      <td>E_200</td>\n",
              "      <td>19999</td>\n",
              "      <td>미국 가서 야구 보고 싶다</td>\n",
              "    </tr>\n",
              "    <tr>\n",
              "      <th>110533</th>\n",
              "      <td>HJW00</td>\n",
              "      <td>10</td>\n",
              "      <td>수도권</td>\n",
              "      <td>F</td>\n",
              "      <td>소아남녀_010</td>\n",
              "      <td>E_200</td>\n",
              "      <td>20000</td>\n",
              "      <td>나도 우리 나중에 같이 미국 가서 야구 보자</td>\n",
              "    </tr>\n",
              "  </tbody>\n",
              "</table>\n",
              "<p>110534 rows × 8 columns</p>\n",
              "</div>"
            ],
            "text/plain": [
              "       Nameid age city  ... setnum2 scriptnum                      text\n",
              "0       KJH00  10  수도권  ...   A_001     00001              우리 이모는 미국 살아\n",
              "1       KJH00  10  수도권  ...   A_001     00002            우리 삼촌은 베트남에 있어\n",
              "2       KJH00  10  수도권  ...   A_001     00003     내 동생은 맨날 귀찮게 졸졸 쫓아 다녀\n",
              "3       KJH00  10  수도권  ...   A_001     00004     맨날 내 말 따라하고 공부하는데 방해해\n",
              "4       KJH00  10  수도권  ...   A_001     00005              시끄럽게 떠들고 얄미워\n",
              "...       ...  ..  ...  ...     ...       ...                       ...\n",
              "110529  HJW00  10  수도권  ...   E_200     19996         나는 당연히 두산 선택해서 했지\n",
              "110530  HJW00  10  수도권  ...   E_200     19997             내 기록도 남길 수 있어\n",
              "110531  HJW00  10  수도권  ...   E_200     19998              야구는 미국이 잘하잖아\n",
              "110532  HJW00  10  수도권  ...   E_200     19999            미국 가서 야구 보고 싶다\n",
              "110533  HJW00  10  수도권  ...   E_200     20000  나도 우리 나중에 같이 미국 가서 야구 보자\n",
              "\n",
              "[110534 rows x 8 columns]"
            ]
          },
          "metadata": {
            "tags": []
          },
          "execution_count": 19
        }
      ]
    },
    {
      "cell_type": "code",
      "metadata": {
        "id": "pgr6BNDlGKAQ"
      },
      "source": [
        "temp = df_child.copy()"
      ],
      "execution_count": 20,
      "outputs": []
    },
    {
      "cell_type": "code",
      "metadata": {
        "colab": {
          "base_uri": "https://localhost:8080/"
        },
        "id": "pnHxruaMGMVD",
        "outputId": "f3f0614e-cc16-4a5b-aaf9-97e388bd6da0"
      },
      "source": [
        "temp.groupby('scriptnum')['text'].count()"
      ],
      "execution_count": 21,
      "outputs": [
        {
          "output_type": "execute_result",
          "data": {
            "text/plain": [
              "scriptnum\n",
              "00001    2\n",
              "00002    2\n",
              "00003    2\n",
              "00004    2\n",
              "00005    2\n",
              "        ..\n",
              "19996    7\n",
              "19997    7\n",
              "19998    7\n",
              "19999    7\n",
              "20000    7\n",
              "Name: text, Length: 21231, dtype: int64"
            ]
          },
          "metadata": {
            "tags": []
          },
          "execution_count": 21
        }
      ]
    },
    {
      "cell_type": "markdown",
      "metadata": {
        "id": "9i5Q-ZwHHjr-"
      },
      "source": [
        "# 새 섹션"
      ]
    },
    {
      "cell_type": "code",
      "metadata": {
        "colab": {
          "base_uri": "https://localhost:8080/",
          "height": 77
        },
        "id": "3fw52bMFGNT5",
        "outputId": "4b6e7d19-a677-401b-a928-515e8bcde4d7"
      },
      "source": [
        "temp[temp['scriptnum']=='00222'][['Nameid','city','text']]"
      ],
      "execution_count": 211,
      "outputs": [
        {
          "output_type": "execute_result",
          "data": {
            "text/html": [
              "<div>\n",
              "<style scoped>\n",
              "    .dataframe tbody tr th:only-of-type {\n",
              "        vertical-align: middle;\n",
              "    }\n",
              "\n",
              "    .dataframe tbody tr th {\n",
              "        vertical-align: top;\n",
              "    }\n",
              "\n",
              "    .dataframe thead th {\n",
              "        text-align: right;\n",
              "    }\n",
              "</style>\n",
              "<table border=\"1\" class=\"dataframe\">\n",
              "  <thead>\n",
              "    <tr style=\"text-align: right;\">\n",
              "      <th></th>\n",
              "      <th>Nameid</th>\n",
              "      <th>city</th>\n",
              "      <th>text</th>\n",
              "    </tr>\n",
              "  </thead>\n",
              "  <tbody>\n",
              "    <tr>\n",
              "      <th>221</th>\n",
              "      <td>KJH00</td>\n",
              "      <td>수도권</td>\n",
              "      <td>아빠가 제가 응원하는 팀은 엘지에요</td>\n",
              "    </tr>\n",
              "  </tbody>\n",
              "</table>\n",
              "</div>"
            ],
            "text/plain": [
              "    Nameid city                 text\n",
              "221  KJH00  수도권  아빠가 제가 응원하는 팀은 엘지에요"
            ]
          },
          "metadata": {
            "tags": []
          },
          "execution_count": 211
        }
      ]
    },
    {
      "cell_type": "markdown",
      "metadata": {
        "id": "Jp5_rQ9-GeqA"
      },
      "source": [
        "# sound\r\n"
      ]
    },
    {
      "cell_type": "code",
      "metadata": {
        "id": "xDw8fb3hI5i7"
      },
      "source": [
        "temp.loc[temp['scriptnum']=='4536', 'text'] = '우리 이모는 미국에 살아'\r\n",
        "temp.loc[temp['scriptnum']=='4555', 'text'] = '우리 내일 숙제 뭐야'\r\n",
        "temp.loc[temp['scriptnum']=='4564\t', 'text'] = '나는 오늘 영어학원에 가는 날이야'\r\n",
        "temp.loc[temp['scriptnum']=='4572\t', 'text'] = '오늘 반찬은 별로 맛없어'\r\n",
        "temp.loc[temp['scriptnum']=='4577\t', 'text'] = '오늘 수박 나왔데 나 수박 좋아해'\r\n",
        "temp.iloc[45]['text'] = '너 방과(SN:후) 수업 뭐 들어'\r\n",
        "temp.iloc[4594]['text'] = '(SN:아 힘들어)이거 생일 선물 받은 거야'\r\n",
        "temp.iloc[4599]['text'] = '(SN:숨소리)나 어제 유튜브로 게임하는 거 봤어'\r\n",
        "temp.iloc[4600]['text'] = '(SN:겁나많다)나는 유튜브 못 봐 엄마가 금지했어'\r\n",
        "temp.iloc[4608]['text'] = '(NO:**)(SN:숨소리)나 숙제해야 해 방해하지 마(NO:이 속도로)'\r\n",
        "temp.iloc[100]['text'] = '이번엔 한 번 (SP:쉬어야) 하네'\r\n",
        "temp.iloc[101]['text'] = '(SP:카등) 한 장 뒤집는다'\r\n",
        "temp.iloc[204]['text'] = '혼자서 탈 때는 자꾸 넘어졌는데 선생님 (SP:선명을) 듣고 난 뒤에는 훨씬 쉽게 탈 수 있었어요'\r\n",
        "temp.iloc[207]['text'] = '엄마가 야채와 고기를 골고루 (SP:자)잘 먹어야 건강하다고 하는데 전 야채가 싫어요'"
      ],
      "execution_count": 100,
      "outputs": []
    },
    {
      "cell_type": "code",
      "metadata": {
        "colab": {
          "base_uri": "https://localhost:8080/",
          "height": 168
        },
        "id": "XAjKnHKIJ6-9",
        "outputId": "38c11cee-4e7e-4727-8ef8-2201cf09340c"
      },
      "source": [
        ""
      ],
      "execution_count": 192,
      "outputs": [
        {
          "output_type": "error",
          "ename": "KeyError",
          "evalue": "ignored",
          "traceback": [
            "\u001b[0;31m---------------------------------------------------------------------------\u001b[0m",
            "\u001b[0;31mKeyError\u001b[0m                                  Traceback (most recent call last)",
            "\u001b[0;32m<ipython-input-192-a14fd984ceb0>\u001b[0m in \u001b[0;36m<module>\u001b[0;34m()\u001b[0m\n\u001b[0;32m----> 1\u001b[0;31m \u001b[0mdf_child\u001b[0m \u001b[0;34m=\u001b[0m \u001b[0mpd\u001b[0m\u001b[0;34m.\u001b[0m\u001b[0mDataFrame\u001b[0m\u001b[0;34m(\u001b[0m\u001b[0mchild_dict\u001b[0m\u001b[0;34m[\u001b[0m\u001b[0;36m101\u001b[0m\u001b[0;34m]\u001b[0m\u001b[0;34m)\u001b[0m\u001b[0;34m\u001b[0m\u001b[0;34m\u001b[0m\u001b[0m\n\u001b[0m",
            "\u001b[0;31mKeyError\u001b[0m: 101"
          ]
        }
      ]
    },
    {
      "cell_type": "code",
      "metadata": {
        "id": "riKT9DCLZFCA"
      },
      "source": [
        ""
      ],
      "execution_count": null,
      "outputs": []
    }
  ]
}